{
 "cells": [
  {
   "cell_type": "markdown",
   "metadata": {},
   "source": [
    "## Import library"
   ]
  },
  {
   "cell_type": "code",
   "execution_count": 1,
   "metadata": {},
   "outputs": [
    {
     "name": "stderr",
     "output_type": "stream",
     "text": [
      "C:\\Users\\DAI.STUDENTSDC\\AppData\\Roaming\\Python\\Python38\\site-packages\\pandas\\core\\computation\\expressions.py:20: UserWarning: Pandas requires version '2.7.3' or newer of 'numexpr' (version '2.7.1' currently installed).\n",
      "  from pandas.core.computation.check import NUMEXPR_INSTALLED\n"
     ]
    }
   ],
   "source": [
    "import pandas as pd"
   ]
  },
  {
   "cell_type": "markdown",
   "metadata": {},
   "source": [
    "## Load csv data"
   ]
  },
  {
   "cell_type": "code",
   "execution_count": 2,
   "metadata": {},
   "outputs": [
    {
     "data": {
      "text/html": [
       "<div>\n",
       "<style scoped>\n",
       "    .dataframe tbody tr th:only-of-type {\n",
       "        vertical-align: middle;\n",
       "    }\n",
       "\n",
       "    .dataframe tbody tr th {\n",
       "        vertical-align: top;\n",
       "    }\n",
       "\n",
       "    .dataframe thead th {\n",
       "        text-align: right;\n",
       "    }\n",
       "</style>\n",
       "<table border=\"1\" class=\"dataframe\">\n",
       "  <thead>\n",
       "    <tr style=\"text-align: right;\">\n",
       "      <th></th>\n",
       "      <th>ID</th>\n",
       "      <th>Name</th>\n",
       "      <th>Age</th>\n",
       "      <th>Photo</th>\n",
       "      <th>Nationality</th>\n",
       "      <th>Flag</th>\n",
       "      <th>Overall</th>\n",
       "      <th>Potential</th>\n",
       "      <th>Club</th>\n",
       "      <th>Club Logo</th>\n",
       "      <th>...</th>\n",
       "      <th>Marking</th>\n",
       "      <th>StandingTackle</th>\n",
       "      <th>SlidingTackle</th>\n",
       "      <th>GKDiving</th>\n",
       "      <th>GKHandling</th>\n",
       "      <th>GKKicking</th>\n",
       "      <th>GKPositioning</th>\n",
       "      <th>GKReflexes</th>\n",
       "      <th>Best Position</th>\n",
       "      <th>Best Overall Rating</th>\n",
       "    </tr>\n",
       "  </thead>\n",
       "  <tbody>\n",
       "    <tr>\n",
       "      <th>0</th>\n",
       "      <td>176580</td>\n",
       "      <td>L. Suárez</td>\n",
       "      <td>29</td>\n",
       "      <td>https://cdn.sofifa.com/players/176/580/17_60.png</td>\n",
       "      <td>Uruguay</td>\n",
       "      <td>https://cdn.sofifa.com/flags/uy.png</td>\n",
       "      <td>92</td>\n",
       "      <td>92</td>\n",
       "      <td>FC Barcelona</td>\n",
       "      <td>https://cdn.sofifa.com/teams/241/light_30.png</td>\n",
       "      <td>...</td>\n",
       "      <td>30.0</td>\n",
       "      <td>45.0</td>\n",
       "      <td>38.0</td>\n",
       "      <td>27.0</td>\n",
       "      <td>25.0</td>\n",
       "      <td>31.0</td>\n",
       "      <td>33.0</td>\n",
       "      <td>37.0</td>\n",
       "      <td>ST</td>\n",
       "      <td>88.0</td>\n",
       "    </tr>\n",
       "    <tr>\n",
       "      <th>1</th>\n",
       "      <td>178518</td>\n",
       "      <td>R. Nainggolan</td>\n",
       "      <td>28</td>\n",
       "      <td>https://cdn.sofifa.com/players/178/518/17_60.png</td>\n",
       "      <td>Belgium</td>\n",
       "      <td>https://cdn.sofifa.com/flags/be.png</td>\n",
       "      <td>86</td>\n",
       "      <td>86</td>\n",
       "      <td>Roma</td>\n",
       "      <td>https://cdn.sofifa.com/teams/52/light_30.png</td>\n",
       "      <td>...</td>\n",
       "      <td>78.0</td>\n",
       "      <td>85.0</td>\n",
       "      <td>88.0</td>\n",
       "      <td>11.0</td>\n",
       "      <td>11.0</td>\n",
       "      <td>14.0</td>\n",
       "      <td>8.0</td>\n",
       "      <td>11.0</td>\n",
       "      <td>CDM</td>\n",
       "      <td>84.0</td>\n",
       "    </tr>\n",
       "    <tr>\n",
       "      <th>2</th>\n",
       "      <td>181872</td>\n",
       "      <td>A. Vidal</td>\n",
       "      <td>29</td>\n",
       "      <td>https://cdn.sofifa.com/players/181/872/17_60.png</td>\n",
       "      <td>Chile</td>\n",
       "      <td>https://cdn.sofifa.com/flags/cl.png</td>\n",
       "      <td>87</td>\n",
       "      <td>87</td>\n",
       "      <td>FC Bayern München</td>\n",
       "      <td>https://cdn.sofifa.com/teams/21/light_30.png</td>\n",
       "      <td>...</td>\n",
       "      <td>76.0</td>\n",
       "      <td>89.0</td>\n",
       "      <td>84.0</td>\n",
       "      <td>4.0</td>\n",
       "      <td>2.0</td>\n",
       "      <td>4.0</td>\n",
       "      <td>2.0</td>\n",
       "      <td>4.0</td>\n",
       "      <td>CDM</td>\n",
       "      <td>85.0</td>\n",
       "    </tr>\n",
       "    <tr>\n",
       "      <th>3</th>\n",
       "      <td>197445</td>\n",
       "      <td>D. Alaba</td>\n",
       "      <td>24</td>\n",
       "      <td>https://cdn.sofifa.com/players/197/445/17_60.png</td>\n",
       "      <td>Austria</td>\n",
       "      <td>https://cdn.sofifa.com/flags/at.png</td>\n",
       "      <td>86</td>\n",
       "      <td>89</td>\n",
       "      <td>FC Bayern München</td>\n",
       "      <td>https://cdn.sofifa.com/teams/21/light_30.png</td>\n",
       "      <td>...</td>\n",
       "      <td>81.0</td>\n",
       "      <td>83.0</td>\n",
       "      <td>83.0</td>\n",
       "      <td>5.0</td>\n",
       "      <td>7.0</td>\n",
       "      <td>14.0</td>\n",
       "      <td>15.0</td>\n",
       "      <td>9.0</td>\n",
       "      <td>LB</td>\n",
       "      <td>84.0</td>\n",
       "    </tr>\n",
       "    <tr>\n",
       "      <th>4</th>\n",
       "      <td>195864</td>\n",
       "      <td>P. Pogba</td>\n",
       "      <td>23</td>\n",
       "      <td>https://cdn.sofifa.com/players/195/864/17_60.png</td>\n",
       "      <td>France</td>\n",
       "      <td>https://cdn.sofifa.com/flags/fr.png</td>\n",
       "      <td>88</td>\n",
       "      <td>94</td>\n",
       "      <td>Manchester United</td>\n",
       "      <td>https://cdn.sofifa.com/teams/11/light_30.png</td>\n",
       "      <td>...</td>\n",
       "      <td>68.0</td>\n",
       "      <td>73.0</td>\n",
       "      <td>73.0</td>\n",
       "      <td>5.0</td>\n",
       "      <td>6.0</td>\n",
       "      <td>2.0</td>\n",
       "      <td>4.0</td>\n",
       "      <td>3.0</td>\n",
       "      <td>CAM</td>\n",
       "      <td>85.0</td>\n",
       "    </tr>\n",
       "  </tbody>\n",
       "</table>\n",
       "<p>5 rows × 63 columns</p>\n",
       "</div>"
      ],
      "text/plain": [
       "       ID            Name  Age  \\\n",
       "0  176580       L. Suárez   29   \n",
       "1  178518   R. Nainggolan   28   \n",
       "2  181872        A. Vidal   29   \n",
       "3  197445        D. Alaba   24   \n",
       "4  195864        P. Pogba   23   \n",
       "\n",
       "                                              Photo Nationality  \\\n",
       "0  https://cdn.sofifa.com/players/176/580/17_60.png     Uruguay   \n",
       "1  https://cdn.sofifa.com/players/178/518/17_60.png     Belgium   \n",
       "2  https://cdn.sofifa.com/players/181/872/17_60.png       Chile   \n",
       "3  https://cdn.sofifa.com/players/197/445/17_60.png     Austria   \n",
       "4  https://cdn.sofifa.com/players/195/864/17_60.png      France   \n",
       "\n",
       "                                  Flag  Overall  Potential               Club  \\\n",
       "0  https://cdn.sofifa.com/flags/uy.png       92         92       FC Barcelona   \n",
       "1  https://cdn.sofifa.com/flags/be.png       86         86               Roma   \n",
       "2  https://cdn.sofifa.com/flags/cl.png       87         87  FC Bayern München   \n",
       "3  https://cdn.sofifa.com/flags/at.png       86         89  FC Bayern München   \n",
       "4  https://cdn.sofifa.com/flags/fr.png       88         94  Manchester United   \n",
       "\n",
       "                                       Club Logo  ... Marking StandingTackle  \\\n",
       "0  https://cdn.sofifa.com/teams/241/light_30.png  ...    30.0           45.0   \n",
       "1   https://cdn.sofifa.com/teams/52/light_30.png  ...    78.0           85.0   \n",
       "2   https://cdn.sofifa.com/teams/21/light_30.png  ...    76.0           89.0   \n",
       "3   https://cdn.sofifa.com/teams/21/light_30.png  ...    81.0           83.0   \n",
       "4   https://cdn.sofifa.com/teams/11/light_30.png  ...    68.0           73.0   \n",
       "\n",
       "   SlidingTackle GKDiving  GKHandling  GKKicking  GKPositioning GKReflexes  \\\n",
       "0           38.0     27.0        25.0       31.0           33.0       37.0   \n",
       "1           88.0     11.0        11.0       14.0            8.0       11.0   \n",
       "2           84.0      4.0         2.0        4.0            2.0        4.0   \n",
       "3           83.0      5.0         7.0       14.0           15.0        9.0   \n",
       "4           73.0      5.0         6.0        2.0            4.0        3.0   \n",
       "\n",
       "  Best Position Best Overall Rating  \n",
       "0            ST                88.0  \n",
       "1           CDM                84.0  \n",
       "2           CDM                85.0  \n",
       "3            LB                84.0  \n",
       "4           CAM                85.0  \n",
       "\n",
       "[5 rows x 63 columns]"
      ]
     },
     "execution_count": 2,
     "metadata": {},
     "output_type": "execute_result"
    }
   ],
   "source": [
    "data= pd.read_csv(\"FIFA17_official_data.csv\")\n",
    "data.head(5)"
   ]
  },
  {
   "cell_type": "markdown",
   "metadata": {},
   "source": [
    "# Data preparation"
   ]
  },
  {
   "cell_type": "markdown",
   "metadata": {},
   "source": [
    "## Select only the columns Name and bestoverallrating "
   ]
  },
  {
   "cell_type": "code",
   "execution_count": 3,
   "metadata": {},
   "outputs": [
    {
     "data": {
      "text/html": [
       "<div>\n",
       "<style scoped>\n",
       "    .dataframe tbody tr th:only-of-type {\n",
       "        vertical-align: middle;\n",
       "    }\n",
       "\n",
       "    .dataframe tbody tr th {\n",
       "        vertical-align: top;\n",
       "    }\n",
       "\n",
       "    .dataframe thead th {\n",
       "        text-align: right;\n",
       "    }\n",
       "</style>\n",
       "<table border=\"1\" class=\"dataframe\">\n",
       "  <thead>\n",
       "    <tr style=\"text-align: right;\">\n",
       "      <th></th>\n",
       "      <th>Name</th>\n",
       "      <th>Best Overall Rating</th>\n",
       "    </tr>\n",
       "  </thead>\n",
       "  <tbody>\n",
       "    <tr>\n",
       "      <th>0</th>\n",
       "      <td>L. Suárez</td>\n",
       "      <td>88.0</td>\n",
       "    </tr>\n",
       "    <tr>\n",
       "      <th>1</th>\n",
       "      <td>R. Nainggolan</td>\n",
       "      <td>84.0</td>\n",
       "    </tr>\n",
       "    <tr>\n",
       "      <th>2</th>\n",
       "      <td>A. Vidal</td>\n",
       "      <td>85.0</td>\n",
       "    </tr>\n",
       "    <tr>\n",
       "      <th>3</th>\n",
       "      <td>D. Alaba</td>\n",
       "      <td>84.0</td>\n",
       "    </tr>\n",
       "    <tr>\n",
       "      <th>4</th>\n",
       "      <td>P. Pogba</td>\n",
       "      <td>85.0</td>\n",
       "    </tr>\n",
       "    <tr>\n",
       "      <th>...</th>\n",
       "      <td>...</td>\n",
       "      <td>...</td>\n",
       "    </tr>\n",
       "    <tr>\n",
       "      <th>17555</th>\n",
       "      <td>C. Addai</td>\n",
       "      <td>53.0</td>\n",
       "    </tr>\n",
       "    <tr>\n",
       "      <th>17556</th>\n",
       "      <td>R. Kamiyama</td>\n",
       "      <td>56.0</td>\n",
       "    </tr>\n",
       "    <tr>\n",
       "      <th>17557</th>\n",
       "      <td>B. Gaye</td>\n",
       "      <td>52.0</td>\n",
       "    </tr>\n",
       "    <tr>\n",
       "      <th>17558</th>\n",
       "      <td>K. Olifirenko</td>\n",
       "      <td>49.0</td>\n",
       "    </tr>\n",
       "    <tr>\n",
       "      <th>17559</th>\n",
       "      <td>A. Kelsey</td>\n",
       "      <td>45.0</td>\n",
       "    </tr>\n",
       "  </tbody>\n",
       "</table>\n",
       "<p>17560 rows × 2 columns</p>\n",
       "</div>"
      ],
      "text/plain": [
       "                 Name  Best Overall Rating\n",
       "0           L. Suárez                 88.0\n",
       "1       R. Nainggolan                 84.0\n",
       "2            A. Vidal                 85.0\n",
       "3            D. Alaba                 84.0\n",
       "4            P. Pogba                 85.0\n",
       "...               ...                  ...\n",
       "17555        C. Addai                 53.0\n",
       "17556     R. Kamiyama                 56.0\n",
       "17557         B. Gaye                 52.0\n",
       "17558   K. Olifirenko                 49.0\n",
       "17559       A. Kelsey                 45.0\n",
       "\n",
       "[17560 rows x 2 columns]"
      ]
     },
     "execution_count": 3,
     "metadata": {},
     "output_type": "execute_result"
    }
   ],
   "source": [
    "df = data.loc[:,['Name','Best Overall Rating']]\n",
    "df"
   ]
  },
  {
   "cell_type": "markdown",
   "metadata": {},
   "source": [
    "## Remove any rows with missing values in these columns using dropna()"
   ]
  },
  {
   "cell_type": "code",
   "execution_count": 4,
   "metadata": {},
   "outputs": [
    {
     "data": {
      "text/plain": [
       "Name                   0\n",
       "Best Overall Rating    0\n",
       "dtype: int64"
      ]
     },
     "execution_count": 4,
     "metadata": {},
     "output_type": "execute_result"
    }
   ],
   "source": [
    "df.isnull().sum()"
   ]
  },
  {
   "cell_type": "markdown",
   "metadata": {},
   "source": [
    "## Identifying Unique players"
   ]
  },
  {
   "cell_type": "code",
   "execution_count": 5,
   "metadata": {},
   "outputs": [
    {
     "name": "stdout",
     "output_type": "stream",
     "text": [
      "Unique value in name: [' L. Suárez' ' R. Nainggolan' ' A. Vidal' ... ' B. Gaye' ' K. Olifirenko'\n",
      " ' A. Kelsey']\n"
     ]
    }
   ],
   "source": [
    "name = df['Name'].unique()\n",
    "print(f\"Unique value in name: {name}\")"
   ]
  },
  {
   "cell_type": "markdown",
   "metadata": {},
   "source": [
    "## Identify unique players using drop_duplicates() method on the name column, keeping ony the first occureence"
   ]
  },
  {
   "cell_type": "code",
   "execution_count": 6,
   "metadata": {},
   "outputs": [
    {
     "name": "stdout",
     "output_type": "stream",
     "text": [
      "Duplicate value in Name column:\n",
      "                Name  Best Overall Rating\n",
      "186           Danilo                 78.0\n",
      "295         Juanfran                 77.0\n",
      "475      A. González                 73.0\n",
      "938       S. Larsson                 77.0\n",
      "1011     A. González                 71.0\n",
      "...              ...                  ...\n",
      "17453     G. Dowling                 45.0\n",
      "17489     J. Caicedo                 52.0\n",
      "17520       N. Maher                 46.0\n",
      "17538   N. Jørgensen                 51.0\n",
      "17554   D. Rodríguez                 52.0\n",
      "\n",
      "[964 rows x 2 columns]\n",
      "\n",
      "Unique dataframe which not consider duplicate value base on name:\n",
      "                  Name  Best Overall Rating\n",
      "0           L. Suárez                 88.0\n",
      "1       R. Nainggolan                 84.0\n",
      "2            A. Vidal                 85.0\n",
      "3            D. Alaba                 84.0\n",
      "4            P. Pogba                 85.0\n",
      "...               ...                  ...\n",
      "17555        C. Addai                 53.0\n",
      "17556     R. Kamiyama                 56.0\n",
      "17557         B. Gaye                 52.0\n",
      "17558   K. Olifirenko                 49.0\n",
      "17559       A. Kelsey                 45.0\n",
      "\n",
      "[16596 rows x 2 columns]\n"
     ]
    }
   ],
   "source": [
    "duplicate = df[df.duplicated('Name')]\n",
    "print(f\"Duplicate value in Name column:\\n{duplicate}\")\n",
    "\n",
    "unique_df = df.drop_duplicates(subset=[\"Name\"], keep=\"first\")\n",
    "print(f\"\\nUnique dataframe which not consider duplicate value base on name:\\n {unique_df}\")\n"
   ]
  },
  {
   "cell_type": "markdown",
   "metadata": {},
   "source": [
    "## Select Top 5 unique players OR Sort the unique players by overall_rating in descending order"
   ]
  },
  {
   "cell_type": "code",
   "execution_count": 7,
   "metadata": {},
   "outputs": [
    {
     "data": {
      "text/html": [
       "<div>\n",
       "<style scoped>\n",
       "    .dataframe tbody tr th:only-of-type {\n",
       "        vertical-align: middle;\n",
       "    }\n",
       "\n",
       "    .dataframe tbody tr th {\n",
       "        vertical-align: top;\n",
       "    }\n",
       "\n",
       "    .dataframe thead th {\n",
       "        text-align: right;\n",
       "    }\n",
       "</style>\n",
       "<table border=\"1\" class=\"dataframe\">\n",
       "  <thead>\n",
       "    <tr style=\"text-align: right;\">\n",
       "      <th></th>\n",
       "      <th>Name</th>\n",
       "      <th>Best Overall Rating</th>\n",
       "    </tr>\n",
       "  </thead>\n",
       "  <tbody>\n",
       "    <tr>\n",
       "      <th>58</th>\n",
       "      <td>L. Messi</td>\n",
       "      <td>92.0</td>\n",
       "    </tr>\n",
       "    <tr>\n",
       "      <th>9</th>\n",
       "      <td>Cristiano Ronaldo</td>\n",
       "      <td>91.0</td>\n",
       "    </tr>\n",
       "    <tr>\n",
       "      <th>12372</th>\n",
       "      <td>M. Neuer</td>\n",
       "      <td>89.0</td>\n",
       "    </tr>\n",
       "    <tr>\n",
       "      <th>168</th>\n",
       "      <td>Neymar</td>\n",
       "      <td>89.0</td>\n",
       "    </tr>\n",
       "    <tr>\n",
       "      <th>0</th>\n",
       "      <td>L. Suárez</td>\n",
       "      <td>88.0</td>\n",
       "    </tr>\n",
       "    <tr>\n",
       "      <th>...</th>\n",
       "      <td>...</td>\n",
       "      <td>...</td>\n",
       "    </tr>\n",
       "    <tr>\n",
       "      <th>17475</th>\n",
       "      <td>A. Dunbar</td>\n",
       "      <td>44.0</td>\n",
       "    </tr>\n",
       "    <tr>\n",
       "      <th>16832</th>\n",
       "      <td>L. Sackey</td>\n",
       "      <td>44.0</td>\n",
       "    </tr>\n",
       "    <tr>\n",
       "      <th>17333</th>\n",
       "      <td>M. Foden</td>\n",
       "      <td>44.0</td>\n",
       "    </tr>\n",
       "    <tr>\n",
       "      <th>16079</th>\n",
       "      <td>S. Dalby</td>\n",
       "      <td>44.0</td>\n",
       "    </tr>\n",
       "    <tr>\n",
       "      <th>17482</th>\n",
       "      <td>B. Richardson</td>\n",
       "      <td>44.0</td>\n",
       "    </tr>\n",
       "  </tbody>\n",
       "</table>\n",
       "<p>16596 rows × 2 columns</p>\n",
       "</div>"
      ],
      "text/plain": [
       "                     Name  Best Overall Rating\n",
       "58               L. Messi                 92.0\n",
       "9       Cristiano Ronaldo                 91.0\n",
       "12372            M. Neuer                 89.0\n",
       "168                Neymar                 89.0\n",
       "0               L. Suárez                 88.0\n",
       "...                   ...                  ...\n",
       "17475           A. Dunbar                 44.0\n",
       "16832           L. Sackey                 44.0\n",
       "17333            M. Foden                 44.0\n",
       "16079            S. Dalby                 44.0\n",
       "17482       B. Richardson                 44.0\n",
       "\n",
       "[16596 rows x 2 columns]"
      ]
     },
     "execution_count": 7,
     "metadata": {},
     "output_type": "execute_result"
    }
   ],
   "source": [
    "Top_5_player = unique_df.sort_values(by=['Best Overall Rating'],ascending=False)\n",
    "Top_5_player"
   ]
  },
  {
   "cell_type": "markdown",
   "metadata": {},
   "source": [
    "## Select the top 5 players with highest overall ratings"
   ]
  },
  {
   "cell_type": "code",
   "execution_count": 8,
   "metadata": {},
   "outputs": [
    {
     "data": {
      "text/html": [
       "<div>\n",
       "<style scoped>\n",
       "    .dataframe tbody tr th:only-of-type {\n",
       "        vertical-align: middle;\n",
       "    }\n",
       "\n",
       "    .dataframe tbody tr th {\n",
       "        vertical-align: top;\n",
       "    }\n",
       "\n",
       "    .dataframe thead th {\n",
       "        text-align: right;\n",
       "    }\n",
       "</style>\n",
       "<table border=\"1\" class=\"dataframe\">\n",
       "  <thead>\n",
       "    <tr style=\"text-align: right;\">\n",
       "      <th></th>\n",
       "      <th>Name</th>\n",
       "      <th>Best Overall Rating</th>\n",
       "    </tr>\n",
       "  </thead>\n",
       "  <tbody>\n",
       "    <tr>\n",
       "      <th>58</th>\n",
       "      <td>L. Messi</td>\n",
       "      <td>92.0</td>\n",
       "    </tr>\n",
       "    <tr>\n",
       "      <th>9</th>\n",
       "      <td>Cristiano Ronaldo</td>\n",
       "      <td>91.0</td>\n",
       "    </tr>\n",
       "    <tr>\n",
       "      <th>12372</th>\n",
       "      <td>M. Neuer</td>\n",
       "      <td>89.0</td>\n",
       "    </tr>\n",
       "    <tr>\n",
       "      <th>168</th>\n",
       "      <td>Neymar</td>\n",
       "      <td>89.0</td>\n",
       "    </tr>\n",
       "    <tr>\n",
       "      <th>0</th>\n",
       "      <td>L. Suárez</td>\n",
       "      <td>88.0</td>\n",
       "    </tr>\n",
       "  </tbody>\n",
       "</table>\n",
       "</div>"
      ],
      "text/plain": [
       "                     Name  Best Overall Rating\n",
       "58               L. Messi                 92.0\n",
       "9       Cristiano Ronaldo                 91.0\n",
       "12372            M. Neuer                 89.0\n",
       "168                Neymar                 89.0\n",
       "0               L. Suárez                 88.0"
      ]
     },
     "execution_count": 8,
     "metadata": {},
     "output_type": "execute_result"
    }
   ],
   "source": [
    "Top_5_player.head(5)"
   ]
  },
  {
   "cell_type": "markdown",
   "metadata": {},
   "source": [
    "# Plotting:"
   ]
  },
  {
   "cell_type": "markdown",
   "metadata": {},
   "source": [
    "## Use the plotline library to create a bar graph of the top 5 unique players overall ratings"
   ]
  },
  {
   "cell_type": "code",
   "execution_count": 9,
   "metadata": {},
   "outputs": [
    {
     "data": {
      "image/png": "[encoded data removed]",
      "text/plain": [
       "<Figure size 460.8x345.6 with 1 Axes>"
      ]
     },
     "metadata": {
      "image/png": {
       "height": 345,
       "width": 460
      }
     },
     "output_type": "display_data"
    },
    {
     "name": "stdout",
     "output_type": "stream",
     "text": [
      "\n"
     ]
    }
   ],
   "source": [
    "import pandas as pd \n",
    "from plotnine import ggplot, aes,labs,geom_line,geom_bar\n",
    "\n",
    "bar_plot = (ggplot(Top_5_player,aes(x='Name',y='Best Overall Rating'))+\n",
    "               geom_bar(stat=\"identity\",fill=\"skyblue\")+labs(title=\"Bar plot\",x=\"Players\",y=\"Best Overall Rating\"))\n",
    "print(bar_plot)"
   ]
  },
  {
   "cell_type": "code",
   "execution_count": null,
   "metadata": {},
   "outputs": [],
   "source": []
  }
 ],
 "metadata": {
  "kernelspec": {
   "display_name": "Python 3",
   "language": "python",
   "name": "python3"
  },
  "language_info": {
   "codemirror_mode": {
    "name": "ipython",
    "version": 3
   },
   "file_extension": ".py",
   "mimetype": "text/x-python",
   "name": "python",
   "nbconvert_exporter": "python",
   "pygments_lexer": "ipython3",
   "version": "3.8.5"
  }
 },
 "nbformat": 4,
 "nbformat_minor": 4
}
